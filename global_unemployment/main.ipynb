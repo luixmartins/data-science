{
 "cells": [
  {
   "cell_type": "code",
   "execution_count": 2,
   "metadata": {},
   "outputs": [],
   "source": [
    "import pandas as pd \n",
    "import numpy as np \n",
    "import matplotlib.pyplot as plt \n",
    "import seaborn as sns "
   ]
  },
  {
   "cell_type": "code",
   "execution_count": 3,
   "metadata": {},
   "outputs": [
    {
     "data": {
      "text/html": [
       "<div>\n",
       "<style scoped>\n",
       "    .dataframe tbody tr th:only-of-type {\n",
       "        vertical-align: middle;\n",
       "    }\n",
       "\n",
       "    .dataframe tbody tr th {\n",
       "        vertical-align: top;\n",
       "    }\n",
       "\n",
       "    .dataframe thead th {\n",
       "        text-align: right;\n",
       "    }\n",
       "</style>\n",
       "<table border=\"1\" class=\"dataframe\">\n",
       "  <thead>\n",
       "    <tr style=\"text-align: right;\">\n",
       "      <th></th>\n",
       "      <th>country_name</th>\n",
       "      <th>indicator_name</th>\n",
       "      <th>sex</th>\n",
       "      <th>age_group</th>\n",
       "      <th>age_categories</th>\n",
       "      <th>2014</th>\n",
       "      <th>2015</th>\n",
       "      <th>2016</th>\n",
       "      <th>2017</th>\n",
       "      <th>2018</th>\n",
       "      <th>2019</th>\n",
       "      <th>2020</th>\n",
       "      <th>2021</th>\n",
       "      <th>2022</th>\n",
       "      <th>2023</th>\n",
       "      <th>2024</th>\n",
       "    </tr>\n",
       "  </thead>\n",
       "  <tbody>\n",
       "    <tr>\n",
       "      <th>0</th>\n",
       "      <td>Afghanistan</td>\n",
       "      <td>Unemployment rate by sex and age</td>\n",
       "      <td>Female</td>\n",
       "      <td>15-24</td>\n",
       "      <td>Youth</td>\n",
       "      <td>13.340</td>\n",
       "      <td>15.974</td>\n",
       "      <td>18.570</td>\n",
       "      <td>21.137</td>\n",
       "      <td>20.649</td>\n",
       "      <td>20.154</td>\n",
       "      <td>21.228</td>\n",
       "      <td>21.640</td>\n",
       "      <td>30.561</td>\n",
       "      <td>32.200</td>\n",
       "      <td>33.332</td>\n",
       "    </tr>\n",
       "    <tr>\n",
       "      <th>1</th>\n",
       "      <td>Afghanistan</td>\n",
       "      <td>Unemployment rate by sex and age</td>\n",
       "      <td>Female</td>\n",
       "      <td>25+</td>\n",
       "      <td>Adults</td>\n",
       "      <td>8.576</td>\n",
       "      <td>9.014</td>\n",
       "      <td>9.463</td>\n",
       "      <td>9.920</td>\n",
       "      <td>11.223</td>\n",
       "      <td>12.587</td>\n",
       "      <td>14.079</td>\n",
       "      <td>14.415</td>\n",
       "      <td>23.818</td>\n",
       "      <td>26.192</td>\n",
       "      <td>28.298</td>\n",
       "    </tr>\n",
       "    <tr>\n",
       "      <th>2</th>\n",
       "      <td>Afghanistan</td>\n",
       "      <td>Unemployment rate by sex and age</td>\n",
       "      <td>Female</td>\n",
       "      <td>Under 15</td>\n",
       "      <td>Children</td>\n",
       "      <td>10.306</td>\n",
       "      <td>11.552</td>\n",
       "      <td>12.789</td>\n",
       "      <td>14.017</td>\n",
       "      <td>14.706</td>\n",
       "      <td>15.418</td>\n",
       "      <td>16.783</td>\n",
       "      <td>17.134</td>\n",
       "      <td>26.746</td>\n",
       "      <td>29.193</td>\n",
       "      <td>30.956</td>\n",
       "    </tr>\n",
       "    <tr>\n",
       "      <th>3</th>\n",
       "      <td>Afghanistan</td>\n",
       "      <td>Unemployment rate by sex and age</td>\n",
       "      <td>Male</td>\n",
       "      <td>15-24</td>\n",
       "      <td>Youth</td>\n",
       "      <td>9.206</td>\n",
       "      <td>11.502</td>\n",
       "      <td>13.772</td>\n",
       "      <td>16.027</td>\n",
       "      <td>15.199</td>\n",
       "      <td>14.361</td>\n",
       "      <td>14.452</td>\n",
       "      <td>15.099</td>\n",
       "      <td>16.655</td>\n",
       "      <td>18.512</td>\n",
       "      <td>19.770</td>\n",
       "    </tr>\n",
       "    <tr>\n",
       "      <th>4</th>\n",
       "      <td>Afghanistan</td>\n",
       "      <td>Unemployment rate by sex and age</td>\n",
       "      <td>Male</td>\n",
       "      <td>25+</td>\n",
       "      <td>Adults</td>\n",
       "      <td>6.463</td>\n",
       "      <td>6.879</td>\n",
       "      <td>7.301</td>\n",
       "      <td>7.728</td>\n",
       "      <td>7.833</td>\n",
       "      <td>7.961</td>\n",
       "      <td>8.732</td>\n",
       "      <td>9.199</td>\n",
       "      <td>11.357</td>\n",
       "      <td>12.327</td>\n",
       "      <td>13.087</td>\n",
       "    </tr>\n",
       "  </tbody>\n",
       "</table>\n",
       "</div>"
      ],
      "text/plain": [
       "  country_name                    indicator_name     sex age_group  \\\n",
       "0  Afghanistan  Unemployment rate by sex and age  Female     15-24   \n",
       "1  Afghanistan  Unemployment rate by sex and age  Female       25+   \n",
       "2  Afghanistan  Unemployment rate by sex and age  Female  Under 15   \n",
       "3  Afghanistan  Unemployment rate by sex and age    Male     15-24   \n",
       "4  Afghanistan  Unemployment rate by sex and age    Male       25+   \n",
       "\n",
       "  age_categories    2014    2015    2016    2017    2018    2019    2020  \\\n",
       "0          Youth  13.340  15.974  18.570  21.137  20.649  20.154  21.228   \n",
       "1         Adults   8.576   9.014   9.463   9.920  11.223  12.587  14.079   \n",
       "2       Children  10.306  11.552  12.789  14.017  14.706  15.418  16.783   \n",
       "3          Youth   9.206  11.502  13.772  16.027  15.199  14.361  14.452   \n",
       "4         Adults   6.463   6.879   7.301   7.728   7.833   7.961   8.732   \n",
       "\n",
       "     2021    2022    2023    2024  \n",
       "0  21.640  30.561  32.200  33.332  \n",
       "1  14.415  23.818  26.192  28.298  \n",
       "2  17.134  26.746  29.193  30.956  \n",
       "3  15.099  16.655  18.512  19.770  \n",
       "4   9.199  11.357  12.327  13.087  "
      ]
     },
     "execution_count": 3,
     "metadata": {},
     "output_type": "execute_result"
    }
   ],
   "source": [
    "df = pd.read_csv('./data/global_unemployment_data.csv')\n",
    "\n",
    "df.head()"
   ]
  },
  {
   "cell_type": "markdown",
   "metadata": {},
   "source": [
    "Inicialmente, vamos checar o tipo de cada coluna do dataset, convertendo-as para que seja possível utilizar menos memória"
   ]
  },
  {
   "cell_type": "code",
   "execution_count": 4,
   "metadata": {},
   "outputs": [
    {
     "data": {
      "text/plain": [
       "country_name       object\n",
       "indicator_name     object\n",
       "sex                object\n",
       "age_group          object\n",
       "age_categories     object\n",
       "2014              float64\n",
       "2015              float64\n",
       "2016              float64\n",
       "2017              float64\n",
       "2018              float64\n",
       "2019              float64\n",
       "2020              float64\n",
       "2021              float64\n",
       "2022              float64\n",
       "2023              float64\n",
       "2024              float64\n",
       "dtype: object"
      ]
     },
     "execution_count": 4,
     "metadata": {},
     "output_type": "execute_result"
    }
   ],
   "source": [
    "df.dtypes"
   ]
  },
  {
   "cell_type": "code",
   "execution_count": 5,
   "metadata": {},
   "outputs": [
    {
     "data": {
      "text/plain": [
       "country_name      category\n",
       "indicator_name    category\n",
       "sex               category\n",
       "age_group         category\n",
       "age_categories    category\n",
       "2014               float64\n",
       "2015               float64\n",
       "2016               float64\n",
       "2017               float64\n",
       "2018               float64\n",
       "2019               float64\n",
       "2020               float64\n",
       "2021               float64\n",
       "2022               float64\n",
       "2023               float64\n",
       "2024               float64\n",
       "dtype: object"
      ]
     },
     "execution_count": 5,
     "metadata": {},
     "output_type": "execute_result"
    }
   ],
   "source": [
    "#Convertendo colunas do tipo object para category\n",
    "for column in df.columns: \n",
    "    if df[column].dtypes == 'object': \n",
    "        df[column] = df[column].astype('category')\n",
    "\n",
    "df.dtypes"
   ]
  },
  {
   "cell_type": "markdown",
   "metadata": {},
   "source": [
    "Uma vez que os tipos dos dados foram ajustados, vamos verificar a presença de valores nulos "
   ]
  },
  {
   "cell_type": "code",
   "execution_count": 6,
   "metadata": {},
   "outputs": [
    {
     "data": {
      "text/plain": [
       "country_name       0\n",
       "indicator_name     0\n",
       "sex                0\n",
       "age_group          0\n",
       "age_categories     0\n",
       "2014               0\n",
       "2015               0\n",
       "2016               0\n",
       "2017               0\n",
       "2018               0\n",
       "2019               0\n",
       "2020               0\n",
       "2021               0\n",
       "2022               6\n",
       "2023              12\n",
       "2024              12\n",
       "dtype: int64"
      ]
     },
     "execution_count": 6,
     "metadata": {},
     "output_type": "execute_result"
    }
   ],
   "source": [
    "df.isnull().sum()"
   ]
  },
  {
   "cell_type": "code",
   "execution_count": 7,
   "metadata": {},
   "outputs": [
    {
     "data": {
      "text/plain": [
       "country_name      0\n",
       "indicator_name    0\n",
       "sex               0\n",
       "age_group         0\n",
       "age_categories    0\n",
       "2014              0\n",
       "2015              0\n",
       "2016              0\n",
       "2017              0\n",
       "2018              0\n",
       "2019              0\n",
       "2020              0\n",
       "2021              0\n",
       "2022              0\n",
       "2023              0\n",
       "2024              0\n",
       "dtype: int64"
      ]
     },
     "execution_count": 7,
     "metadata": {},
     "output_type": "execute_result"
    }
   ],
   "source": [
    "df.bfill(axis='index', inplace=True)\n",
    "\n",
    "df.isnull().sum()"
   ]
  },
  {
   "cell_type": "markdown",
   "metadata": {},
   "source": [
    "Agora vamos conferir a distribuição dos dados"
   ]
  },
  {
   "cell_type": "code",
   "execution_count": 8,
   "metadata": {},
   "outputs": [
    {
     "data": {
      "text/html": [
       "<div>\n",
       "<style scoped>\n",
       "    .dataframe tbody tr th:only-of-type {\n",
       "        vertical-align: middle;\n",
       "    }\n",
       "\n",
       "    .dataframe tbody tr th {\n",
       "        vertical-align: top;\n",
       "    }\n",
       "\n",
       "    .dataframe thead th {\n",
       "        text-align: right;\n",
       "    }\n",
       "</style>\n",
       "<table border=\"1\" class=\"dataframe\">\n",
       "  <thead>\n",
       "    <tr style=\"text-align: right;\">\n",
       "      <th></th>\n",
       "      <th>2014</th>\n",
       "      <th>2015</th>\n",
       "      <th>2016</th>\n",
       "      <th>2017</th>\n",
       "      <th>2018</th>\n",
       "      <th>2019</th>\n",
       "      <th>2020</th>\n",
       "      <th>2021</th>\n",
       "      <th>2022</th>\n",
       "      <th>2023</th>\n",
       "      <th>2024</th>\n",
       "    </tr>\n",
       "  </thead>\n",
       "  <tbody>\n",
       "    <tr>\n",
       "      <th>count</th>\n",
       "      <td>1134.000000</td>\n",
       "      <td>1134.000000</td>\n",
       "      <td>1134.000000</td>\n",
       "      <td>1134.000000</td>\n",
       "      <td>1134.000000</td>\n",
       "      <td>1134.000000</td>\n",
       "      <td>1134.000000</td>\n",
       "      <td>1134.000000</td>\n",
       "      <td>1134.000000</td>\n",
       "      <td>1134.000000</td>\n",
       "      <td>1134.000000</td>\n",
       "    </tr>\n",
       "    <tr>\n",
       "      <th>mean</th>\n",
       "      <td>11.387800</td>\n",
       "      <td>11.272444</td>\n",
       "      <td>11.122963</td>\n",
       "      <td>10.863516</td>\n",
       "      <td>10.516499</td>\n",
       "      <td>10.311452</td>\n",
       "      <td>11.851285</td>\n",
       "      <td>11.422645</td>\n",
       "      <td>10.382729</td>\n",
       "      <td>10.052745</td>\n",
       "      <td>10.010014</td>\n",
       "    </tr>\n",
       "    <tr>\n",
       "      <th>std</th>\n",
       "      <td>11.119002</td>\n",
       "      <td>10.915942</td>\n",
       "      <td>10.742947</td>\n",
       "      <td>10.640980</td>\n",
       "      <td>10.527773</td>\n",
       "      <td>10.297952</td>\n",
       "      <td>11.231580</td>\n",
       "      <td>10.873412</td>\n",
       "      <td>10.254078</td>\n",
       "      <td>9.958798</td>\n",
       "      <td>9.949455</td>\n",
       "    </tr>\n",
       "    <tr>\n",
       "      <th>min</th>\n",
       "      <td>0.027000</td>\n",
       "      <td>0.034000</td>\n",
       "      <td>0.038000</td>\n",
       "      <td>0.035000</td>\n",
       "      <td>0.044000</td>\n",
       "      <td>0.036000</td>\n",
       "      <td>0.056000</td>\n",
       "      <td>0.064000</td>\n",
       "      <td>0.067000</td>\n",
       "      <td>0.063000</td>\n",
       "      <td>0.060000</td>\n",
       "    </tr>\n",
       "    <tr>\n",
       "      <th>25%</th>\n",
       "      <td>3.933500</td>\n",
       "      <td>3.993500</td>\n",
       "      <td>3.945250</td>\n",
       "      <td>3.747500</td>\n",
       "      <td>3.672750</td>\n",
       "      <td>3.538500</td>\n",
       "      <td>4.334500</td>\n",
       "      <td>4.153500</td>\n",
       "      <td>3.568500</td>\n",
       "      <td>3.484500</td>\n",
       "      <td>3.484500</td>\n",
       "    </tr>\n",
       "    <tr>\n",
       "      <th>50%</th>\n",
       "      <td>7.697500</td>\n",
       "      <td>7.547500</td>\n",
       "      <td>7.504500</td>\n",
       "      <td>7.140500</td>\n",
       "      <td>6.706000</td>\n",
       "      <td>6.627500</td>\n",
       "      <td>8.067500</td>\n",
       "      <td>7.542500</td>\n",
       "      <td>6.624500</td>\n",
       "      <td>6.505000</td>\n",
       "      <td>6.495000</td>\n",
       "    </tr>\n",
       "    <tr>\n",
       "      <th>75%</th>\n",
       "      <td>15.050750</td>\n",
       "      <td>14.766250</td>\n",
       "      <td>14.467500</td>\n",
       "      <td>14.142000</td>\n",
       "      <td>13.343000</td>\n",
       "      <td>13.285500</td>\n",
       "      <td>15.316250</td>\n",
       "      <td>14.881500</td>\n",
       "      <td>13.498250</td>\n",
       "      <td>13.089250</td>\n",
       "      <td>12.941000</td>\n",
       "    </tr>\n",
       "    <tr>\n",
       "      <th>max</th>\n",
       "      <td>74.485000</td>\n",
       "      <td>74.655000</td>\n",
       "      <td>74.720000</td>\n",
       "      <td>75.416000</td>\n",
       "      <td>76.395000</td>\n",
       "      <td>77.173000</td>\n",
       "      <td>83.990000</td>\n",
       "      <td>82.135000</td>\n",
       "      <td>78.776000</td>\n",
       "      <td>78.541000</td>\n",
       "      <td>78.644000</td>\n",
       "    </tr>\n",
       "  </tbody>\n",
       "</table>\n",
       "</div>"
      ],
      "text/plain": [
       "              2014         2015         2016         2017         2018  \\\n",
       "count  1134.000000  1134.000000  1134.000000  1134.000000  1134.000000   \n",
       "mean     11.387800    11.272444    11.122963    10.863516    10.516499   \n",
       "std      11.119002    10.915942    10.742947    10.640980    10.527773   \n",
       "min       0.027000     0.034000     0.038000     0.035000     0.044000   \n",
       "25%       3.933500     3.993500     3.945250     3.747500     3.672750   \n",
       "50%       7.697500     7.547500     7.504500     7.140500     6.706000   \n",
       "75%      15.050750    14.766250    14.467500    14.142000    13.343000   \n",
       "max      74.485000    74.655000    74.720000    75.416000    76.395000   \n",
       "\n",
       "              2019         2020         2021         2022         2023  \\\n",
       "count  1134.000000  1134.000000  1134.000000  1134.000000  1134.000000   \n",
       "mean     10.311452    11.851285    11.422645    10.382729    10.052745   \n",
       "std      10.297952    11.231580    10.873412    10.254078     9.958798   \n",
       "min       0.036000     0.056000     0.064000     0.067000     0.063000   \n",
       "25%       3.538500     4.334500     4.153500     3.568500     3.484500   \n",
       "50%       6.627500     8.067500     7.542500     6.624500     6.505000   \n",
       "75%      13.285500    15.316250    14.881500    13.498250    13.089250   \n",
       "max      77.173000    83.990000    82.135000    78.776000    78.541000   \n",
       "\n",
       "              2024  \n",
       "count  1134.000000  \n",
       "mean     10.010014  \n",
       "std       9.949455  \n",
       "min       0.060000  \n",
       "25%       3.484500  \n",
       "50%       6.495000  \n",
       "75%      12.941000  \n",
       "max      78.644000  "
      ]
     },
     "execution_count": 8,
     "metadata": {},
     "output_type": "execute_result"
    }
   ],
   "source": [
    "df.describe()"
   ]
  },
  {
   "cell_type": "code",
   "execution_count": 9,
   "metadata": {},
   "outputs": [
    {
     "name": "stdout",
     "output_type": "stream",
     "text": [
      "Quantidade de países: 189\n"
     ]
    }
   ],
   "source": [
    "print(\"Quantidade de países:\", len(df.country_name.unique()))"
   ]
  },
  {
   "cell_type": "code",
   "execution_count": 13,
   "metadata": {},
   "outputs": [
    {
     "name": "stdout",
     "output_type": "stream",
     "text": [
      "---------DISTRIBUIÇÃO DOS DADOS---------\n",
      "age_categories\n",
      "Adults      378\n",
      "Children    378\n",
      "Youth       378\n",
      "Name: count, dtype: int64\n",
      "\n",
      "age_group\n",
      "15-24       378\n",
      "25+         378\n",
      "Under 15    378\n",
      "Name: count, dtype: int64\n",
      "\n",
      "sex\n",
      "Female    567\n",
      "Male      567\n",
      "Name: count, dtype: int64\n"
     ]
    }
   ],
   "source": [
    "age_categories = df['age_categories'].value_counts()\n",
    "age_group = df['age_group'].value_counts()\n",
    "sex = df['sex'].value_counts()\n",
    "\n",
    "print(\"---------DISTRIBUIÇÃO DOS DADOS---------\")\n",
    "print(age_categories)\n",
    "print()\n",
    "print(age_group)\n",
    "print()\n",
    "print(sex)"
   ]
  },
  {
   "cell_type": "code",
   "execution_count": 47,
   "metadata": {},
   "outputs": [
    {
     "name": "stderr",
     "output_type": "stream",
     "text": [
      "No artists with labels found to put in legend.  Note that artists whose label start with an underscore are ignored when legend() is called with no argument.\n"
     ]
    },
    {
     "data": {
      "image/png": "[encoded data removed]",
      "text/plain": [
       "<Figure size 640x480 with 1 Axes>"
      ]
     },
     "metadata": {},
     "output_type": "display_data"
    }
   ],
   "source": [
    "df['variation_between_2014_2024'] = df['2024'] - df['2014']\n",
    "\n",
    "years = [str(year) for year in range(2014, 2025)]\n",
    "\n",
    "plot = df.loc[df['variation_between_2014_2024'].idxmax()]\n",
    "\n",
    "sns.lineplot(data=plot[years])\n",
    "\n",
    "plt.xlabel('Ano')\n",
    "plt.ylabel('Valor')\n",
    "plt.title(f'Maior variação de desemprego - {plot['country_name']}')\n",
    "plt.legend() \n",
    "\n",
    "plt.grid(True)\n",
    "plt.show()\n",
    "\n"
   ]
  },
  {
   "cell_type": "code",
   "execution_count": 96,
   "metadata": {},
   "outputs": [
    {
     "name": "stderr",
     "output_type": "stream",
     "text": [
      "No artists with labels found to put in legend.  Note that artists whose label start with an underscore are ignored when legend() is called with no argument.\n"
     ]
    },
    {
     "data": {
      "image/png": "[encoded data removed]",
      "text/plain": [
       "<Figure size 640x480 with 1 Axes>"
      ]
     },
     "metadata": {},
     "output_type": "display_data"
    }
   ],
   "source": [
    "new_plot = df.loc[df['variation_between_2014_2024'].idxmin()]\n",
    "\n",
    "sns.lineplot(data=new_plot[years])\n",
    "\n",
    "plt.xlabel('Ano')\n",
    "plt.ylabel('Valor')\n",
    "plt.title(f'Menor variação de desemprego - {new_plot['country_name']}')\n",
    "plt.legend() \n",
    "\n",
    "plt.grid(True)\n",
    "plt.show()"
   ]
  },
  {
   "cell_type": "code",
   "execution_count": 88,
   "metadata": {},
   "outputs": [
    {
     "data": {
      "text/html": [
       "<div>\n",
       "<style scoped>\n",
       "    .dataframe tbody tr th:only-of-type {\n",
       "        vertical-align: middle;\n",
       "    }\n",
       "\n",
       "    .dataframe tbody tr th {\n",
       "        vertical-align: top;\n",
       "    }\n",
       "\n",
       "    .dataframe thead th {\n",
       "        text-align: right;\n",
       "    }\n",
       "</style>\n",
       "<table border=\"1\" class=\"dataframe\">\n",
       "  <thead>\n",
       "    <tr style=\"text-align: right;\">\n",
       "      <th></th>\n",
       "      <th>year</th>\n",
       "      <th>country</th>\n",
       "      <th>max_value</th>\n",
       "      <th>country_min</th>\n",
       "      <th>value_min</th>\n",
       "    </tr>\n",
       "  </thead>\n",
       "  <tbody>\n",
       "    <tr>\n",
       "      <th>0</th>\n",
       "      <td>2014</td>\n",
       "      <td>Djibouti</td>\n",
       "      <td>74.485</td>\n",
       "      <td>Qatar</td>\n",
       "      <td>0.027</td>\n",
       "    </tr>\n",
       "    <tr>\n",
       "      <th>1</th>\n",
       "      <td>2015</td>\n",
       "      <td>Djibouti</td>\n",
       "      <td>74.655</td>\n",
       "      <td>Qatar</td>\n",
       "      <td>0.034</td>\n",
       "    </tr>\n",
       "    <tr>\n",
       "      <th>2</th>\n",
       "      <td>2016</td>\n",
       "      <td>Djibouti</td>\n",
       "      <td>74.720</td>\n",
       "      <td>Qatar</td>\n",
       "      <td>0.038</td>\n",
       "    </tr>\n",
       "    <tr>\n",
       "      <th>3</th>\n",
       "      <td>2017</td>\n",
       "      <td>Djibouti</td>\n",
       "      <td>75.416</td>\n",
       "      <td>Qatar</td>\n",
       "      <td>0.035</td>\n",
       "    </tr>\n",
       "    <tr>\n",
       "      <th>4</th>\n",
       "      <td>2018</td>\n",
       "      <td>Djibouti</td>\n",
       "      <td>76.395</td>\n",
       "      <td>Qatar</td>\n",
       "      <td>0.044</td>\n",
       "    </tr>\n",
       "    <tr>\n",
       "      <th>5</th>\n",
       "      <td>2019</td>\n",
       "      <td>Djibouti</td>\n",
       "      <td>77.173</td>\n",
       "      <td>Cambodia</td>\n",
       "      <td>0.036</td>\n",
       "    </tr>\n",
       "    <tr>\n",
       "      <th>6</th>\n",
       "      <td>2020</td>\n",
       "      <td>Djibouti</td>\n",
       "      <td>83.990</td>\n",
       "      <td>Qatar</td>\n",
       "      <td>0.056</td>\n",
       "    </tr>\n",
       "    <tr>\n",
       "      <th>7</th>\n",
       "      <td>2021</td>\n",
       "      <td>Djibouti</td>\n",
       "      <td>82.135</td>\n",
       "      <td>Qatar</td>\n",
       "      <td>0.064</td>\n",
       "    </tr>\n",
       "    <tr>\n",
       "      <th>8</th>\n",
       "      <td>2022</td>\n",
       "      <td>Djibouti</td>\n",
       "      <td>78.776</td>\n",
       "      <td>Qatar</td>\n",
       "      <td>0.067</td>\n",
       "    </tr>\n",
       "    <tr>\n",
       "      <th>9</th>\n",
       "      <td>2023</td>\n",
       "      <td>Djibouti</td>\n",
       "      <td>78.541</td>\n",
       "      <td>Qatar</td>\n",
       "      <td>0.063</td>\n",
       "    </tr>\n",
       "    <tr>\n",
       "      <th>10</th>\n",
       "      <td>2024</td>\n",
       "      <td>Djibouti</td>\n",
       "      <td>78.644</td>\n",
       "      <td>Qatar</td>\n",
       "      <td>0.060</td>\n",
       "    </tr>\n",
       "  </tbody>\n",
       "</table>\n",
       "</div>"
      ],
      "text/plain": [
       "    year   country  max_value country_min  value_min\n",
       "0   2014  Djibouti     74.485       Qatar      0.027\n",
       "1   2015  Djibouti     74.655       Qatar      0.034\n",
       "2   2016  Djibouti     74.720       Qatar      0.038\n",
       "3   2017  Djibouti     75.416       Qatar      0.035\n",
       "4   2018  Djibouti     76.395       Qatar      0.044\n",
       "5   2019  Djibouti     77.173    Cambodia      0.036\n",
       "6   2020  Djibouti     83.990       Qatar      0.056\n",
       "7   2021  Djibouti     82.135       Qatar      0.064\n",
       "8   2022  Djibouti     78.776       Qatar      0.067\n",
       "9   2023  Djibouti     78.541       Qatar      0.063\n",
       "10  2024  Djibouti     78.644       Qatar      0.060"
      ]
     },
     "execution_count": 88,
     "metadata": {},
     "output_type": "execute_result"
    }
   ],
   "source": [
    "max_values = []\n",
    "\n",
    "for year in years: \n",
    "    max_index = df[year].idxmax()\n",
    "    min_index = df[year].idxmin()\n",
    "    \n",
    "    country = df.loc[max_index, 'country_name']\n",
    "    value = df.loc[max_index, year]\n",
    "\n",
    "    country_min = df.loc[min_index, 'country_name']\n",
    "    value_min = df.loc[min_index, year]\n",
    "\n",
    "    max_values.append((year, country, value, country_min, value_min))\n",
    "\n",
    "max_values = pd.DataFrame(max_values, columns=['year', 'country', 'max_value', 'country_min', 'value_min'])\n",
    "\n",
    "max_values"
   ]
  },
  {
   "cell_type": "code",
   "execution_count": 89,
   "metadata": {},
   "outputs": [
    {
     "data": {
      "text/plain": [
       "<Axes: xlabel='year', ylabel='max_value'>"
      ]
     },
     "execution_count": 89,
     "metadata": {},
     "output_type": "execute_result"
    },
    {
     "data": {
      "image/png": "[encoded data removed]",
      "text/plain": [
       "<Figure size 640x480 with 1 Axes>"
      ]
     },
     "metadata": {},
     "output_type": "display_data"
    }
   ],
   "source": [
    "sns.barplot(data=max_values, y='max_value', x='year', hue='country')"
   ]
  },
  {
   "cell_type": "markdown",
   "metadata": {},
   "source": [
    "Como mostra o gráfico acima, o País Djibouti obteve os maiores indíces de desemprego no mundo todo"
   ]
  },
  {
   "cell_type": "code",
   "execution_count": 90,
   "metadata": {},
   "outputs": [
    {
     "data": {
      "text/plain": [
       "<Axes: xlabel='year', ylabel='value_min'>"
      ]
     },
     "execution_count": 90,
     "metadata": {},
     "output_type": "execute_result"
    },
    {
     "data": {
      "image/png": "[encoded data removed]",
      "text/plain": [
       "<Figure size 640x480 with 1 Axes>"
      ]
     },
     "metadata": {},
     "output_type": "display_data"
    }
   ],
   "source": [
    "sns.barplot(data=max_values, y='value_min', x='year', hue='country_min')"
   ]
  },
  {
   "cell_type": "markdown",
   "metadata": {},
   "source": [
    "O gráfico acima mostra os países que tiveram os menores indíces de desemprego. "
   ]
  },
  {
   "cell_type": "code",
   "execution_count": 91,
   "metadata": {},
   "outputs": [],
   "source": [
    "values = []\n",
    "values_min = []\n",
    "\n",
    "for year in years: \n",
    "    aux = []\n",
    "    for country in df['country_name'].unique(): \n",
    "        aux.append((df[df['country_name'] == country][year].mean(), country, year))\n",
    "    \n",
    "    values.append(max(aux))\n",
    "    values_min.append(min(aux))"
   ]
  },
  {
   "cell_type": "code",
   "execution_count": 92,
   "metadata": {},
   "outputs": [
    {
     "data": {
      "text/plain": [
       "<Axes: xlabel='year', ylabel='value'>"
      ]
     },
     "execution_count": 92,
     "metadata": {},
     "output_type": "execute_result"
    },
    {
     "data": {
      "image/png": "[encoded data removed]",
      "text/plain": [
       "<Figure size 640x480 with 1 Axes>"
      ]
     },
     "metadata": {},
     "output_type": "display_data"
    }
   ],
   "source": [
    "values = pd.DataFrame(values, columns=['value', 'country', 'year'])\n",
    "\n",
    "sns.barplot(data=values, y='value', x='year', hue='country')"
   ]
  },
  {
   "cell_type": "markdown",
   "metadata": {},
   "source": [
    "O gráfico acima mostra que o país Djibouti também obteve a maior média de desemprego global"
   ]
  },
  {
   "cell_type": "code",
   "execution_count": 93,
   "metadata": {},
   "outputs": [
    {
     "data": {
      "text/plain": [
       "<Axes: xlabel='year', ylabel='value'>"
      ]
     },
     "execution_count": 93,
     "metadata": {},
     "output_type": "execute_result"
    },
    {
     "data": {
      "image/png": "[encoded data removed]",
      "text/plain": [
       "<Figure size 640x480 with 1 Axes>"
      ]
     },
     "metadata": {},
     "output_type": "display_data"
    }
   ],
   "source": [
    "values = pd.DataFrame(values_min, columns=['value', 'country', 'year'])\n",
    "\n",
    "sns.barplot(data=values, y='value', x='year', hue='country')"
   ]
  },
  {
   "cell_type": "markdown",
   "metadata": {},
   "source": [
    "O gráfico acima apresenta os países que tiveram a menor média de desemprego global "
   ]
  },
  {
   "cell_type": "code",
   "execution_count": 106,
   "metadata": {},
   "outputs": [],
   "source": [
    "values_std = []\n",
    "values_std = []\n",
    "\n",
    "for year in years: \n",
    "    aux = []\n",
    "    for country in df['country_name'].unique(): \n",
    "        aux.append((df[df['country_name'] == country][year].std(), country, year))\n",
    "    \n",
    "    values_std.append(max(aux))\n",
    "    #values_min_std.append(min(aux))"
   ]
  },
  {
   "cell_type": "code",
   "execution_count": 111,
   "metadata": {},
   "outputs": [
    {
     "data": {
      "text/plain": [
       "(0.173761522399715, 'Niger')"
      ]
     },
     "execution_count": 111,
     "metadata": {},
     "output_type": "execute_result"
    }
   ],
   "source": [
    "aux = []\n",
    "for country in df['country_name'].unique(): \n",
    "    aux.append((df[df['country_name'] == country]['2014'].std(), country))\n",
    "    \n",
    "min(aux) "
   ]
  }
 ],
 "metadata": {
  "kernelspec": {
   "display_name": "venv",
   "language": "python",
   "name": "python3"
  },
  "language_info": {
   "codemirror_mode": {
    "name": "ipython",
    "version": 3
   },
   "file_extension": ".py",
   "mimetype": "text/x-python",
   "name": "python",
   "nbconvert_exporter": "python",
   "pygments_lexer": "ipython3",
   "version": "3.12.1"
  }
 },
 "nbformat": 4,
 "nbformat_minor": 2
}
